{
 "cells": [
  {
   "cell_type": "markdown",
   "metadata": {},
   "source": [
    "# Finding Nice Anniversaries\n",
    "I want to systematically find all nice days that mark some sort of \"meaningful\" number of years in our relationship. E.g. 3.1415 ($\\approx\\pi$) years. Formally speaking, that is looking for two numbers $\\alpha$ and $\\beta$ along with corresponding integer factors $p$ and $q$ that approximate the number of years I am together with Rosalie up to one day. $\\alpha$ and $\\beta$ are those \"special numbers\":\n",
    "\n",
    "$$\n",
    "\\alpha, \\beta \\in \\left\\{ e^z, \\pi^z, \\delta^z, \\phi^z \\vert z \\in \\mathbb{Q} \\right\\}\n",
    "$$\n",
    "\n",
    "So, if $x = \\operatorname{days}(B)\\, / \\, 365.2425$ is the number of days we are together then the formal criterion is\n",
    "\n",
    "$$\n",
    "\\left| x - \\frac{p\\cdot\\alpha}{q\\cdot\\beta} \\right| < \\frac{1}{365.2425}\n",
    "$$\n",
    "\n",
    "But I will compute\n",
    "\n",
    "$$\n",
    "\\operatorname{round}\\left( \\frac{x\\cdot\\beta}{\\alpha}, 3 \\right) = t\n",
    "$$\n",
    "\n",
    "and then find $p$ and $q$ numerically so that $t = p\\, / \\, q$. Although actually that thing with the rounding... might be wrong, but so far it works..."
   ]
  },
  {
   "cell_type": "code",
   "execution_count": 1,
   "metadata": {},
   "outputs": [],
   "source": [
    "import datetime as dt\n",
    "import numpy as np\n",
    "import matplotlib.pyplot as plt\n",
    "from IPython.display import display, Math, Markdown"
   ]
  },
  {
   "cell_type": "code",
   "execution_count": 2,
   "metadata": {},
   "outputs": [
    {
     "name": "stdout",
     "output_type": "stream",
     "text": [
      " pi = 3.141592653589793 (Kreiszahl)\n",
      "  e = 2.718281828459045 (Eulersche Zahl)\n",
      "  d = 4.66920160910299 (Feigenbaum constant)\n",
      "phi = 1.618033988749895 (goldener Schnitt)\n"
     ]
    }
   ],
   "source": [
    "# begin of love\n",
    "begin_date = dt.datetime(year=2016, month=3, day=30)\n",
    "\n",
    "# precision I need\n",
    "prec = 1. / 365.2425\n",
    "\n",
    "# important numbers (more can be added of course)\n",
    "pi = np.pi\n",
    "print(f\" pi = {pi} (Kreiszahl)\")\n",
    "e = np.exp(1)\n",
    "print(f\"  e = {e} (Eulersche Zahl)\")\n",
    "d = 4.669201609102990671853203821578\n",
    "print(f\"  d = {d} (Feigenbaum constant)\")\n",
    "phi = ( 1 + np.sqrt(5) ) / 2\n",
    "print(f\"phi = {phi} (goldener Schnitt)\")\n",
    "\n",
    "# create arrays of powers of those important numbers\n",
    "powers = np.array([1, 2, 3])\n",
    "PI = pi**powers\n",
    "E = e**powers\n",
    "D = d**powers\n",
    "PHI = phi**powers\n",
    "\n",
    "# collecting the numbers and their text representations\n",
    "nums = np.array([pi, e, phi, 1])\n",
    "nums_txt = [\"pi\", \"e\", \"1\"]\n",
    "nums_ltx = [r\"\\pi\", \"e\", \"\"]\n",
    "NUMS = np.concatenate((PI, E, [1]))"
   ]
  },
  {
   "cell_type": "markdown",
   "metadata": {},
   "source": [
    "## Version A\n",
    "Uses modulo and integer numbers. Not very elegant, loads of \"IFs\" and 3 loops. Also it spits out tons of duplicates."
   ]
  },
  {
   "cell_type": "code",
   "execution_count": 121,
   "metadata": {},
   "outputs": [],
   "source": [
    "x = (dt.datetime.now() - begin_date).days / 365.2425\n",
    "\n",
    "idx_list = []\n",
    "\n",
    "for a, alpha in enumerate(NUMS):\n",
    "    for b, beta in enumerate(NUMS):\n",
    "        for q in range(1,10):\n",
    "            if (a == b):\n",
    "                pass\n",
    "            elif (int(x * q * beta * 365.2425) % int(alpha * 365.2425) == 0):\n",
    "                idx_list.append((a,b,q, int(x * q * beta * 365.2425) // int(alpha * 365.2425)))"
   ]
  },
  {
   "cell_type": "markdown",
   "metadata": {},
   "source": [
    "## Version B\n",
    "Much better! Only 2 loops and way more analytical. It directly finds the two integers $p$ and $q$ that would be necessary to approximate\n",
    "\n",
    "$$\n",
    "x\\cdot\\frac{\\beta}{\\alpha} \\approx \\frac{p}{q}\n",
    "$$\n",
    "\n",
    "sufficiently well. "
   ]
  },
  {
   "cell_type": "code",
   "execution_count": 3,
   "metadata": {},
   "outputs": [],
   "source": [
    "# small helper functions for the text formatting\n",
    "pwr_ltx = lambda pwr : \"\" if pwr==1 else f\"^{pwr}\"\n",
    "show_int = lambda i : \"\" if i==1 else f\"{i}\"\n",
    "\n",
    "delta = (dt.datetime.now() - begin_date).days\n",
    "special_dates = []\n",
    "\n",
    "# loop through days from today to next year\n",
    "for x in np.linspace(delta, delta+365, 365+1, dtype=float):\n",
    "    \n",
    "    # loop over the candidate numbers (enumerator)\n",
    "    for a, alpha in enumerate(NUMS):\n",
    "        \n",
    "        # loop over the candidate numbers (denominator)\n",
    "        for b, beta in enumerate(NUMS):\n",
    "            \n",
    "            # approximate this number by a rational fraction\n",
    "            tmp = (x/365.2425) * beta / alpha\n",
    "            int_ratio = round(tmp, 3).as_integer_ratio()\n",
    "            \n",
    "            # from here it's basically just generating the LaTeX text\n",
    "            alpha_base_txt = nums_txt[a // len(powers)]\n",
    "            alpha_base_ltx = nums_ltx[a // len(powers)]\n",
    "            alpha_power = a % len(powers) + 1\n",
    "            \n",
    "            beta_base_txt = nums_txt[b // len(powers)]\n",
    "            beta_base_ltx = nums_ltx[b // len(powers)]\n",
    "            beta_power = b % len(powers) + 1\n",
    "            \n",
    "            diff = np.abs((x / 365.2425) - int_ratio[0]*alpha / (int_ratio[1]*beta)) * 365.2425\n",
    "            # if the approximation is close enough...\n",
    "            if np.all(np.greater(10, int_ratio)) and alpha_base_txt != beta_base_txt and diff < 1.:\n",
    "                txt = f\"{int_ratio[0]} * {alpha_base_txt}^{alpha_power} / {int_ratio[1]} * {beta_base_txt}^{beta_power}\"\n",
    "                \n",
    "                if (beta == 1.) & (int_ratio[1] == 1):\n",
    "                    latex = f\"${show_int(int_ratio[0])}{alpha_base_ltx}{pwr_ltx(alpha_power)}$\"\n",
    "                elif beta == 1.:\n",
    "                    latex = (r\"$\\frac{\" + \n",
    "                             f\"{show_int(int_ratio[0])}{alpha_base_ltx}{pwr_ltx(alpha_power)}\" + \n",
    "                             r\"}{\" + \n",
    "                             f\"{show_int(int_ratio[1])}\" + \n",
    "                             r\"}$\")\n",
    "                else:  \n",
    "                    latex = (r\"$\\frac{\" + \n",
    "                             f\"{show_int(int_ratio[0])}{alpha_base_ltx}{pwr_ltx(alpha_power)}\" + \n",
    "                             r\"}{\" + \n",
    "                             f\"{show_int(int_ratio[1])}{beta_base_ltx}{pwr_ltx(beta_power)}\" +\n",
    "                             r\"}$\")\n",
    "                \n",
    "                # ...append it to the list of nice anniversaries\n",
    "                special_dates.append(((begin_date + dt.timedelta(days=x)).strftime(\"%-d. %b %Y\"), x / 365.2425, diff, latex))"
   ]
  },
  {
   "cell_type": "markdown",
   "metadata": {},
   "source": [
    "Now that I have all that computed and collected in a list, I only need to put it into a Markdown file, so I can compile an HTML from it and print that to PDF."
   ]
  },
  {
   "cell_type": "code",
   "execution_count": 4,
   "metadata": {},
   "outputs": [],
   "source": [
    "md_string = \"\"\"\n",
    "| Date | Value [Years] | Difference [Days] | Display | Rating |\n",
    "| :--- | ------------: | ----------------: | ------: | -----: |\n",
    "\"\"\"\n",
    "\n",
    "for sd in special_dates:\n",
    "    md_string += f\"\"\"| {sd[0]} | {sd[1]:.2f} | {sd[2]:.2f} | {sd[3]} |  |\\n\"\"\""
   ]
  },
  {
   "cell_type": "markdown",
   "metadata": {},
   "source": [
    "Let's have a look at it"
   ]
  },
  {
   "cell_type": "code",
   "execution_count": 5,
   "metadata": {},
   "outputs": [
    {
     "data": {
      "text/markdown": [
       "\n",
       "| Date | Value [Years] | Difference [Days] | Display | Rating |\n",
       "| :--- | ------------: | ----------------: | ------: | -----: |\n",
       "| 6. Sep 2021 | 5.44 | 0.34 | $2e$ |  |\n",
       "| 9. Sep 2021 | 5.45 | 0.20 | $\\frac{3\\pi^2}{2e}$ |  |\n",
       "| 28. Sep 2021 | 5.50 | 0.03 | $\\frac{7\\pi}{4}$ |  |\n",
       "| 14. Oct 2021 | 5.54 | 0.10 | $\\frac{3e^2}{4}$ |  |\n",
       "| 15. Oct 2021 | 5.54 | 0.90 | $\\frac{3e^2}{4}$ |  |\n",
       "| 2. Nov 2021 | 5.59 | 0.26 | $\\frac{7e^3}{8\\pi}$ |  |\n",
       "| 3. Nov 2021 | 5.60 | 0.74 | $\\frac{7e^3}{8\\pi}$ |  |\n",
       "| 12. Dec 2021 | 5.70 | 0.08 | $\\frac{\\pi^3}{2e}$ |  |\n",
       "| 13. Dec 2021 | 5.71 | 0.92 | $\\frac{\\pi^3}{2e}$ |  |\n",
       "| 15. Feb 2022 | 5.88 | 0.37 | $\\frac{5e^2}{2\\pi}$ |  |\n",
       "| 8. May 2022 | 6.11 | 0.10 | $\\frac{3e^3}{\\pi^2}$ |  |\n",
       "| 12. May 2022 | 6.12 | 0.13 | $\\frac{9e}{4}$ |  |\n",
       "| 30. May 2022 | 6.17 | 1.00 | $\\frac{5\\pi^2}{8}$ |  |\n",
       "| 31. May 2022 | 6.17 | 0.00 | $\\frac{5\\pi^2}{8}$ |  |\n",
       "| 12. Jul 2022 | 6.28 | 0.11 | $2\\pi$ |  |\n",
       "| 16. Jul 2022 | 6.29 | 0.03 | $\\frac{3\\pi^3}{2e^2}$ |  |\n",
       "| 7. Aug 2022 | 6.35 | 0.27 | $\\frac{7\\pi^2}{4e}$ |  |\n",
       "| 21. Aug 2022 | 6.39 | 0.15 | $\\frac{e^3}{\\pi}$ |  |\n",
       "| 22. Aug 2022 | 6.40 | 0.85 | $\\frac{e^3}{\\pi}$ |  |\n"
      ],
      "text/plain": [
       "<IPython.core.display.Markdown object>"
      ]
     },
     "metadata": {},
     "output_type": "display_data"
    }
   ],
   "source": [
    "display(Markdown(md_string))"
   ]
  },
  {
   "cell_type": "markdown",
   "metadata": {},
   "source": [
    "Finally, write it to disk"
   ]
  },
  {
   "cell_type": "code",
   "execution_count": 9,
   "metadata": {},
   "outputs": [],
   "source": [
    "file = open(f\"./{dt.datetime.now():%Y-%m-%d}_table.md\", 'w')\n",
    "file.write(md_string)\n",
    "file.close()"
   ]
  },
  {
   "cell_type": "code",
   "execution_count": null,
   "metadata": {},
   "outputs": [],
   "source": []
  }
 ],
 "metadata": {
  "kernelspec": {
   "display_name": "Python 3 (ipykernel)",
   "language": "python",
   "name": "python3"
  },
  "language_info": {
   "codemirror_mode": {
    "name": "ipython",
    "version": 3
   },
   "file_extension": ".py",
   "mimetype": "text/x-python",
   "name": "python",
   "nbconvert_exporter": "python",
   "pygments_lexer": "ipython3",
   "version": "3.8.10"
  },
  "toc": {
   "base_numbering": 1,
   "nav_menu": {
    "height": "208px",
    "width": "191px"
   },
   "number_sections": true,
   "sideBar": true,
   "skip_h1_title": true,
   "title_cell": "Table of Contents",
   "title_sidebar": "Contents",
   "toc_cell": false,
   "toc_position": {},
   "toc_section_display": true,
   "toc_window_display": true
  },
  "varInspector": {
   "cols": {
    "lenName": 16,
    "lenType": 16,
    "lenVar": 40
   },
   "kernels_config": {
    "python": {
     "delete_cmd_postfix": "",
     "delete_cmd_prefix": "del ",
     "library": "var_list.py",
     "varRefreshCmd": "print(var_dic_list())"
    },
    "r": {
     "delete_cmd_postfix": ") ",
     "delete_cmd_prefix": "rm(",
     "library": "var_list.r",
     "varRefreshCmd": "cat(var_dic_list()) "
    }
   },
   "types_to_exclude": [
    "module",
    "function",
    "builtin_function_or_method",
    "instance",
    "_Feature"
   ],
   "window_display": false
  }
 },
 "nbformat": 4,
 "nbformat_minor": 4
}
